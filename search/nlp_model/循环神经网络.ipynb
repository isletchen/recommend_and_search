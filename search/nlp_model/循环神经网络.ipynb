{
 "cells": [
  {
   "cell_type": "code",
   "execution_count": 4,
   "id": "12c70a52",
   "metadata": {},
   "outputs": [],
   "source": [
    "import pandas as pd\n",
    "import numpy as np\n",
    "import torch\n",
    "import torch.nn as nn\n",
    "from torch.utils.data import Dataset,DataLoader"
   ]
  },
  {
   "cell_type": "code",
   "execution_count": 6,
   "id": "b31efdab",
   "metadata": {},
   "outputs": [
    {
     "data": {
      "text/plain": [
       "date             0\n",
       "precipitation    0\n",
       "temp_max         0\n",
       "temp_min         0\n",
       "wind             0\n",
       "weather          0\n",
       "dtype: int64"
      ]
     },
     "execution_count": 6,
     "metadata": {},
     "output_type": "execute_result"
    }
   ],
   "source": [
    "df = pd.read_csv(\"/Users/islandchen/Documents/学习/搜推/recommend_and_search/Search/dataset/seattle-weather.csv\")\n",
    "df.isnull().sum()"
   ]
  },
  {
   "cell_type": "code",
   "execution_count": 7,
   "id": "41156cc4",
   "metadata": {},
   "outputs": [
    {
     "data": {
      "text/plain": [
       "np.int64(0)"
      ]
     },
     "execution_count": 7,
     "metadata": {},
     "output_type": "execute_result"
    }
   ],
   "source": [
    "df.duplicated().sum()"
   ]
  },
  {
   "cell_type": "code",
   "execution_count": 8,
   "id": "45a6676c",
   "metadata": {},
   "outputs": [
    {
     "data": {
      "text/plain": [
       "array([12.8, 10.6, 11.7, ...,  7.2,  5.6,  5.6])"
      ]
     },
     "execution_count": 8,
     "metadata": {},
     "output_type": "execute_result"
    }
   ],
   "source": [
    "training_set = df.iloc[:,2].values\n",
    "training_set"
   ]
  },
  {
   "cell_type": "code",
   "execution_count": 9,
   "id": "d75e8d43",
   "metadata": {},
   "outputs": [],
   "source": [
    "def train_to_xy(training_set,window_size=10):\n",
    "    x_train = []\n",
    "    y_train = []\n",
    "    \n",
    "    for i in range(10,len(training_set)):\n",
    "        x_train.append(training_set[i-10:i])\n",
    "        y_train.append(training_set[i])\n",
    "    x_train,y_train = np.array(x_train),np.array(y_train)\n",
    "    return x_train,y_train"
   ]
  },
  {
   "cell_type": "code",
   "execution_count": 10,
   "id": "8b05a8d6",
   "metadata": {},
   "outputs": [
    {
     "name": "stdout",
     "output_type": "stream",
     "text": [
      "1451 1451\n"
     ]
    }
   ],
   "source": [
    "X,Y = train_to_xy(training_set)\n",
    "print(len(X),len(Y))"
   ]
  },
  {
   "cell_type": "code",
   "execution_count": 11,
   "id": "788e232d",
   "metadata": {},
   "outputs": [],
   "source": [
    "x_train = X[:800]\n",
    "y_train = Y[:800]\n",
    "x_valid = X[800:1000]\n",
    "y_valid = Y[800:1000]\n",
    "x_test = X[1000:]\n",
    "y_test = Y[1000:]\n",
    "x_train = np.reshape(x_train,(x_train.shape[0],x_train.shape[1],1))\n",
    "x_valid = np.reshape(x_valid,(x_valid.shape[0],x_valid.shape[1],1))\n",
    "x_test = np.reshape(x_test,(x_test.shape[0],x_test.shape[1],1))"
   ]
  },
  {
   "cell_type": "code",
   "execution_count": 12,
   "id": "dace49f8",
   "metadata": {},
   "outputs": [],
   "source": [
    "class RNNmodel(nn.Module):\n",
    "    def __init__(self,input_size,hidden_size,n_layers,batch_size):\n",
    "        super().__init__()\n",
    "        self.hidden_size = hidden_size\n",
    "        self.bs = batch_size\n",
    "        self.rnn = nn.RNN(input_size,hidden_size,nonlinearity = 'relu',batch_first=True)\n",
    "        self.fc = nn.Linear(hidden_size,1)\n",
    "        \n",
    "        self.h0 = torch.zeros(n_layers,batch_size,hidden_size)\n",
    "    \n",
    "    def forward(self,x):\n",
    "        out,h_n = self.rnn(x,self.h0)\n",
    "        h_n = h_n.view(self.bs,self.hidden_size)\n",
    "        h_n = self.fc(h_n)\n",
    "        return out,h_n"
   ]
  },
  {
   "cell_type": "code",
   "execution_count": 13,
   "id": "7d3fd2c7",
   "metadata": {},
   "outputs": [],
   "source": [
    "class weather_Dataset(Dataset):\n",
    "    def __init__(self,X,Y):\n",
    "        self.X = X\n",
    "        self.Y = Y\n",
    "    \n",
    "    def __len__(self):\n",
    "        return x_train.shape[0]\n",
    "    \n",
    "    def __getitem__(self,idx):\n",
    "        return self.X[idx],self.Y[idx]"
   ]
  },
  {
   "cell_type": "code",
   "execution_count": 14,
   "id": "23f0ab03",
   "metadata": {},
   "outputs": [],
   "source": [
    "trainset = weather_Dataset(x_train,y_train)\n",
    "validset = weather_Dataset(x_valid,y_valid)\n",
    "testset = weather_Dataset(x_test,y_test)"
   ]
  },
  {
   "cell_type": "code",
   "execution_count": 16,
   "id": "5ae46526",
   "metadata": {},
   "outputs": [
    {
     "name": "stderr",
     "output_type": "stream",
     "text": [
      "/Users/islandchen/opt/miniconda3/envs/dev_mode/lib/python3.11/site-packages/sentence_transformers/cross_encoder/CrossEncoder.py:13: TqdmWarning: IProgress not found. Please update jupyter and ipywidgets. See https://ipywidgets.readthedocs.io/en/stable/user_install.html\n",
      "  from tqdm.autonotebook import tqdm, trange\n"
     ]
    }
   ],
   "source": [
    "#!pip install -U sentence-transformers==3.1.1\n",
    "from sentence_transformers import SentenceTransformer"
   ]
  },
  {
   "cell_type": "code",
   "execution_count": null,
   "id": "652bbae2",
   "metadata": {},
   "outputs": [],
   "source": [
    "model = SentenceTransformer('moka-ai/m3e-base')"
   ]
  },
  {
   "cell_type": "code",
   "execution_count": null,
   "id": "a295a624",
   "metadata": {},
   "outputs": [],
   "source": [
    "sentences = [\"帐篷\",\"手机\",\"苹果手机\"]"
   ]
  },
  {
   "cell_type": "code",
   "execution_count": null,
   "id": "21197b97",
   "metadata": {},
   "outputs": [],
   "source": [
    "from FlagEmbedding import FlagModel"
   ]
  }
 ],
 "metadata": {
  "kernelspec": {
   "display_name": "dev_mode",
   "language": "python",
   "name": "dev_mode"
  },
  "language_info": {
   "codemirror_mode": {
    "name": "ipython",
    "version": 3
   },
   "file_extension": ".py",
   "mimetype": "text/x-python",
   "name": "python",
   "nbconvert_exporter": "python",
   "pygments_lexer": "ipython3",
   "version": "3.11.10"
  }
 },
 "nbformat": 4,
 "nbformat_minor": 5
}
